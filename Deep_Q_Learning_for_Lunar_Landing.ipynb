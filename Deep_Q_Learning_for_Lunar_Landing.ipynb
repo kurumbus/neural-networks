{
  "cells": [
    {
      "cell_type": "markdown",
      "metadata": {
        "id": "LbZcI9ZXHl3a"
      },
      "source": [
        "# Deep Q-Learning for Lunar Landing"
      ]
    },
    {
      "cell_type": "markdown",
      "metadata": {
        "id": "E8yPRjteXgPb"
      },
      "source": [
        "## Part 0 - Installing the required packages and importing the libraries"
      ]
    },
    {
      "cell_type": "markdown",
      "metadata": {
        "id": "slEm5teGWjWU"
      },
      "source": [
        "### Installing Gymnasium"
      ]
    },
    {
      "cell_type": "code",
      "execution_count": null,
      "metadata": {
        "id": "dbnq3XpoKa_7",
        "colab": {
          "base_uri": "https://localhost:8080/"
        },
        "outputId": "a11b0452-5f2e-437b-c4a8-086b9eaae854",
        "collapsed": true
      },
      "outputs": [
        {
          "output_type": "stream",
          "name": "stdout",
          "text": [
            "Requirement already satisfied: gymnasium in /usr/local/lib/python3.10/dist-packages (0.29.1)\n",
            "Requirement already satisfied: numpy>=1.21.0 in /usr/local/lib/python3.10/dist-packages (from gymnasium) (1.25.2)\n",
            "Requirement already satisfied: cloudpickle>=1.2.0 in /usr/local/lib/python3.10/dist-packages (from gymnasium) (2.2.1)\n",
            "Requirement already satisfied: typing-extensions>=4.3.0 in /usr/local/lib/python3.10/dist-packages (from gymnasium) (4.12.2)\n",
            "Requirement already satisfied: farama-notifications>=0.0.1 in /usr/local/lib/python3.10/dist-packages (from gymnasium) (0.0.4)\n",
            "Requirement already satisfied: gymnasium[accept-rom-license,atari] in /usr/local/lib/python3.10/dist-packages (0.29.1)\n",
            "Requirement already satisfied: numpy>=1.21.0 in /usr/local/lib/python3.10/dist-packages (from gymnasium[accept-rom-license,atari]) (1.25.2)\n",
            "Requirement already satisfied: cloudpickle>=1.2.0 in /usr/local/lib/python3.10/dist-packages (from gymnasium[accept-rom-license,atari]) (2.2.1)\n",
            "Requirement already satisfied: typing-extensions>=4.3.0 in /usr/local/lib/python3.10/dist-packages (from gymnasium[accept-rom-license,atari]) (4.12.2)\n",
            "Requirement already satisfied: farama-notifications>=0.0.1 in /usr/local/lib/python3.10/dist-packages (from gymnasium[accept-rom-license,atari]) (0.0.4)\n",
            "Requirement already satisfied: shimmy[atari]<1.0,>=0.1.0 in /usr/local/lib/python3.10/dist-packages (from gymnasium[accept-rom-license,atari]) (0.2.1)\n",
            "Requirement already satisfied: autorom[accept-rom-license]~=0.4.2 in /usr/local/lib/python3.10/dist-packages (from gymnasium[accept-rom-license,atari]) (0.4.2)\n",
            "Requirement already satisfied: click in /usr/local/lib/python3.10/dist-packages (from autorom[accept-rom-license]~=0.4.2->gymnasium[accept-rom-license,atari]) (8.1.7)\n",
            "Requirement already satisfied: requests in /usr/local/lib/python3.10/dist-packages (from autorom[accept-rom-license]~=0.4.2->gymnasium[accept-rom-license,atari]) (2.31.0)\n",
            "Requirement already satisfied: tqdm in /usr/local/lib/python3.10/dist-packages (from autorom[accept-rom-license]~=0.4.2->gymnasium[accept-rom-license,atari]) (4.66.4)\n",
            "Requirement already satisfied: AutoROM.accept-rom-license in /usr/local/lib/python3.10/dist-packages (from autorom[accept-rom-license]~=0.4.2->gymnasium[accept-rom-license,atari]) (0.6.1)\n",
            "Requirement already satisfied: ale-py~=0.8.1 in /usr/local/lib/python3.10/dist-packages (from shimmy[atari]<1.0,>=0.1.0->gymnasium[accept-rom-license,atari]) (0.8.1)\n",
            "Requirement already satisfied: importlib-resources in /usr/local/lib/python3.10/dist-packages (from ale-py~=0.8.1->shimmy[atari]<1.0,>=0.1.0->gymnasium[accept-rom-license,atari]) (6.4.0)\n",
            "Requirement already satisfied: charset-normalizer<4,>=2 in /usr/local/lib/python3.10/dist-packages (from requests->autorom[accept-rom-license]~=0.4.2->gymnasium[accept-rom-license,atari]) (3.3.2)\n",
            "Requirement already satisfied: idna<4,>=2.5 in /usr/local/lib/python3.10/dist-packages (from requests->autorom[accept-rom-license]~=0.4.2->gymnasium[accept-rom-license,atari]) (3.7)\n",
            "Requirement already satisfied: urllib3<3,>=1.21.1 in /usr/local/lib/python3.10/dist-packages (from requests->autorom[accept-rom-license]~=0.4.2->gymnasium[accept-rom-license,atari]) (2.0.7)\n",
            "Requirement already satisfied: certifi>=2017.4.17 in /usr/local/lib/python3.10/dist-packages (from requests->autorom[accept-rom-license]~=0.4.2->gymnasium[accept-rom-license,atari]) (2024.7.4)\n",
            "Reading package lists... Done\n",
            "Building dependency tree... Done\n",
            "Reading state information... Done\n",
            "swig is already the newest version (4.0.2-1ubuntu1).\n",
            "0 upgraded, 0 newly installed, 0 to remove and 45 not upgraded.\n",
            "Requirement already satisfied: gymnasium[box2d] in /usr/local/lib/python3.10/dist-packages (0.29.1)\n",
            "Requirement already satisfied: numpy>=1.21.0 in /usr/local/lib/python3.10/dist-packages (from gymnasium[box2d]) (1.25.2)\n",
            "Requirement already satisfied: cloudpickle>=1.2.0 in /usr/local/lib/python3.10/dist-packages (from gymnasium[box2d]) (2.2.1)\n",
            "Requirement already satisfied: typing-extensions>=4.3.0 in /usr/local/lib/python3.10/dist-packages (from gymnasium[box2d]) (4.12.2)\n",
            "Requirement already satisfied: farama-notifications>=0.0.1 in /usr/local/lib/python3.10/dist-packages (from gymnasium[box2d]) (0.0.4)\n",
            "Requirement already satisfied: box2d-py==2.3.5 in /usr/local/lib/python3.10/dist-packages (from gymnasium[box2d]) (2.3.5)\n",
            "Requirement already satisfied: pygame>=2.1.3 in /usr/local/lib/python3.10/dist-packages (from gymnasium[box2d]) (2.6.0)\n",
            "Requirement already satisfied: swig==4.* in /usr/local/lib/python3.10/dist-packages (from gymnasium[box2d]) (4.2.1)\n"
          ]
        }
      ],
      "source": [
        "!pip install gymnasium\n",
        "!pip install \"gymnasium[atari, accept-rom-license]\"\n",
        "!apt-get install -y swig\n",
        "!pip install gymnasium[box2d]"
      ]
    },
    {
      "cell_type": "markdown",
      "metadata": {
        "id": "brqiMN3UW9T9"
      },
      "source": [
        "### Importing the libraries"
      ]
    },
    {
      "cell_type": "code",
      "execution_count": null,
      "metadata": {
        "id": "mZaKXP_aMl9O"
      },
      "outputs": [],
      "source": [
        "import os\n",
        "import random\n",
        "import numpy as np\n",
        "import torch\n",
        "import torch.nn as nn\n",
        "import torch.optim as optim\n",
        "import torch.nn.functional as F\n",
        "import torch.autograd as autograd\n",
        "from torch.autograd import Variable\n",
        "from collections import deque, namedtuple"
      ]
    },
    {
      "cell_type": "markdown",
      "metadata": {
        "id": "EzlDKXvkXzGI"
      },
      "source": [
        "## Part 1 - Building the AI"
      ]
    },
    {
      "cell_type": "markdown",
      "metadata": {
        "id": "UtG6Zc83YYy3"
      },
      "source": [
        "### Creating the architecture of the Neural Network"
      ]
    },
    {
      "cell_type": "code",
      "source": [
        "class Network(nn.Module):\n",
        "\n",
        "  def __init__(self, state_size, action_size, seed = 42):  # state size=8 action size = 4\n",
        "      super(Network, self).__init__()\n",
        "      self.seed = torch.manual_seed(seed)\n",
        "      self.fully_connected_layer_1 = nn.Linear(state_size, 64) # second arg is number of neurons in the output layer\n",
        "      self.fully_connected_layer_2 = nn.Linear(64, 64) # first arg = 64 because it's input is output from previous line\n",
        "      self.fully_connected_layer_3 = nn.Linear(64, action_size)\n",
        "\n",
        "  def forward(self, state):\n",
        "      x = self.fully_connected_layer_1(state)\n",
        "      x = F.relu(x) # this connects \"rectifier activation function\" whatever that is\n",
        "      x = self.fully_connected_layer_2(x)\n",
        "      x = F.relu(x)\n",
        "      return self.fully_connected_layer_3(x)\n",
        "\n",
        "\n"
      ],
      "metadata": {
        "id": "HHKebNridW1n"
      },
      "execution_count": null,
      "outputs": []
    },
    {
      "cell_type": "markdown",
      "metadata": {
        "id": "UxVrBnFWZKb1"
      },
      "source": [
        "## Part 2 - Training the AI"
      ]
    },
    {
      "cell_type": "markdown",
      "metadata": {
        "id": "T364fz9qZb2j"
      },
      "source": [
        "### Setting up the environment"
      ]
    },
    {
      "cell_type": "code",
      "source": [
        "import gymnasium as gym\n",
        "env = gym.make('LunarLander-v2')\n",
        "state_shape = env.observation_space.shape\n",
        "state_size = env.observation_space.shape[0]\n",
        "number_actions = env.action_space.n\n",
        "print('State shape: ', state_shape)\n",
        "print('State size: ', state_size)\n",
        "print('Number of actions: ', number_actions)\n"
      ],
      "metadata": {
        "colab": {
          "base_uri": "https://localhost:8080/"
        },
        "collapsed": true,
        "id": "ckU5_DLyhKEO",
        "outputId": "7d3f0442-6b00-4295-8571-944fb365aae6"
      },
      "execution_count": null,
      "outputs": [
        {
          "output_type": "stream",
          "name": "stdout",
          "text": [
            "State shape:  (8,)\n",
            "State size:  8\n",
            "Number of actions:  4\n"
          ]
        }
      ]
    },
    {
      "cell_type": "markdown",
      "metadata": {
        "id": "c_dZmOIvZgj-"
      },
      "source": [
        "### Initializing the hyperparameters"
      ]
    },
    {
      "cell_type": "code",
      "source": [
        "learning_rate = 5e-4 # 5^(1/10^4)\n",
        "minibatch_size = 100\n",
        "discount_factor = 0.99 # closer to 1 means taking future rewards into account\n",
        "replay_buffer_size = int(1e5)\n",
        "interpolation_parameter = 1e-3"
      ],
      "metadata": {
        "collapsed": true,
        "id": "ORjw1PwBimkW"
      },
      "execution_count": null,
      "outputs": []
    },
    {
      "cell_type": "markdown",
      "metadata": {
        "id": "8hD_Vs-bYnip"
      },
      "source": [
        "### Implementing Experience Replay"
      ]
    },
    {
      "cell_type": "code",
      "source": [
        "class ReplayMemory(object):\n",
        "\n",
        "  def __init__(self, capacity):\n",
        "    self.device = torch.device(\"cuda:0\" if torch.cuda.is_available() else \"cpu\")\n",
        "    self.capacity = capacity\n",
        "    self.memory = []\n",
        "\n",
        "  def push(self, event):\n",
        "    self.memory.append(event)\n",
        "    if len(self.memory) > self.capacity:\n",
        "      del self.memory[0]\n",
        "\n",
        "  def sample(self, batch_size):\n",
        "    experiences = random.sample(self.memory, k = batch_size)\n",
        "    states = torch.from_numpy(np.vstack([e[0] for e in experiences if e is not None])).float().to(self.device)\n",
        "    actions = torch.from_numpy(np.vstack([e[1] for e in experiences if e is not None])).long().to(self.device)\n",
        "    rewards = torch.from_numpy(np.vstack([e[2] for e in experiences if e is not None])).float().to(self.device)\n",
        "    next_states = torch.from_numpy(np.vstack([e[3] for e in experiences if e is not None])).float().to(self.device)\n",
        "    dones = torch.from_numpy(np.vstack([e[4] for e in experiences if e is not None]).astype(np.uint8)).float().to(self.device)\n",
        "    return states, next_states, actions, rewards, dones"
      ],
      "metadata": {
        "id": "h7-szCh9jn8G"
      },
      "execution_count": null,
      "outputs": []
    },
    {
      "cell_type": "markdown",
      "metadata": {
        "id": "JmEkbFbUY6Jt"
      },
      "source": [
        "### Implementing the DQN class"
      ]
    },
    {
      "cell_type": "code",
      "source": [
        "class Agent():\n",
        "  def __init__(self, state_size, action_size):\n",
        "    self.device = torch.device(\"cuda:0\" if torch.cuda.is_available() else \"cpu\")\n",
        "    self.state_size = state_size\n",
        "    self.action_size = action_size\n",
        "    self.local_qnetwork = Network(state_size, action_size).to(self.device)\n",
        "    self.target_qnetwork = Network(state_size, action_size).to(self.device)\n",
        "    self.optimizer = optim.Adam(self.local_qnetwork.parameters(), lr = learning_rate)\n",
        "    self.memory = ReplayMemory(replay_buffer_size)\n",
        "    #self.memory = deque(maxlen = 10000)\n",
        "    self.timestep = 0\n",
        "\n",
        "  def step(self, state, action, reward, next_states, done):\n",
        "    self.memory.push((state, action, reward, next_states, done))\n",
        "    self.timestep = (self.timestep + 1) % 4\n",
        "    if self.timestep == 0:\n",
        "      if len(self.memory.memory) > minibatch_size:\n",
        "        experiences = self.memory.sample(minibatch_size)\n",
        "        self.learn(experiences, discount_factor)\n",
        "\n",
        "  def act(self, state, epsilon = 0.):\n",
        "    state = torch.from_numpy(state).float().unsqueeze(0).to(self.device)\n",
        "    self.local_qnetwork.eval()\n",
        "    with torch.no_grad():\n",
        "      action_values = self.local_qnetwork(state)\n",
        "    self.local_qnetwork.train()\n",
        "    if random.random() > epsilon:\n",
        "      return np.argmax(action_values.cpu().data.numpy())\n",
        "    else:\n",
        "      return random.choice(np.arange(self.action_size))\n",
        "\n",
        "  def learn(self, experiences, discount_factor):\n",
        "    states, next_states, actions, rewards, dones = experiences\n",
        "    next_q_targets = self.target_qnetwork(next_states).detach().max(1)[0].unsqueeze(1)\n",
        "    q_targets = rewards + (discount_factor * next_q_targets * (1 - dones))  # remember this formula ¯\\_(ツ)_/¯\n",
        "    q_expected = self.local_qnetwork(states).gather(1, actions)\n",
        "    loss = F.mse_loss(q_expected, q_targets)\n",
        "    self.optimizer.zero_grad()\n",
        "    loss.backward()\n",
        "    self.optimizer.step()\n",
        "    self.soft_update(self.local_qnetwork, self.target_qnetwork, interpolation_parameter)\n",
        "\n",
        "  def soft_update(self, local_model, target_model, interpolation_parameter):\n",
        "    for target_param, local_param in zip(target_model.parameters(), local_model.parameters()):\n",
        "      target_param.data.copy_(interpolation_parameter * local_param.data + (1.0 - interpolation_parameter) * target_param.data)\n",
        "\n",
        "\n",
        "\n",
        "\n",
        "\n",
        "\n",
        "\n",
        "\n",
        "\n"
      ],
      "metadata": {
        "id": "4E0eJ7A5m4_s"
      },
      "execution_count": null,
      "outputs": []
    },
    {
      "cell_type": "markdown",
      "metadata": {
        "id": "o1tZElccZmf6"
      },
      "source": [
        "### Initializing the DQN agent"
      ]
    },
    {
      "cell_type": "code",
      "source": [
        "agent = Agent(state_size, number_actions)"
      ],
      "metadata": {
        "id": "Mkr-ph5e8nKD"
      },
      "execution_count": null,
      "outputs": []
    },
    {
      "cell_type": "markdown",
      "metadata": {
        "id": "E8v0PtUfaVQp"
      },
      "source": [
        "### Training the DQN agent"
      ]
    },
    {
      "cell_type": "code",
      "source": [
        "number_episodes = 2000\n",
        "maximum_number_timesteps_per_episode = 1000\n",
        "epsilon_starting_value = 1.0\n",
        "epsilon_ending_value = 0.01\n",
        "epsilon_decay_value = 0.995\n",
        "epsilon = epsilon_starting_value\n",
        "scores_on_100_episodes = deque(maxlen = 100)\n",
        "\n",
        "for episode in range(1, number_episodes + 1):\n",
        "  state, _ = env.reset()\n",
        "  score = 0\n",
        "  for t in range(maximum_number_timesteps_per_episode):\n",
        "    action = agent.act(state, epsilon)\n",
        "    next_state, reward, done, _, _ = env.step(action)\n",
        "    agent.step(state, action, reward, next_state, done)\n",
        "    state = next_state\n",
        "    score += reward\n",
        "    if done:\n",
        "      break\n",
        "  scores_on_100_episodes.append(score)\n",
        "  epsilon = max(epsilon_ending_value, epsilon_decay_value * epsilon)\n",
        "\n",
        "  print('\\rEpisode {}\\tAverage Score: {:.2f}'.format(episode, np.mean(scores_on_100_episodes)), end = \"\")\n",
        "  if episode % 100 == 0:\n",
        "    print('\\rEpisode {}\\tAverage Score: {:.2f}'.format(episode, np.mean(scores_on_100_episodes)))\n",
        "  if np.mean(scores_on_100_episodes) >= 200.0:\n",
        "    print('\\n Environment solved in {:d} episodes! \\tAverage Score: {:.2f}'.format(episode - 100, np.mean(scores_on_100_episodes)))\n",
        "    torch.save(agent.local_qnetwork.state_dict(), 'checkpoint.pth')\n",
        "    break\n"
      ],
      "metadata": {
        "id": "X7c4UsUy9HJo",
        "colab": {
          "base_uri": "https://localhost:8080/"
        },
        "outputId": "801397a3-96fb-43de-a0c8-0e92c93ed49d"
      },
      "execution_count": null,
      "outputs": [
        {
          "output_type": "stream",
          "name": "stderr",
          "text": [
            "/usr/local/lib/python3.10/dist-packages/ipykernel/ipkernel.py:283: DeprecationWarning: `should_run_async` will not call `transform_cell` automatically in the future. Please pass the result to `transformed_cell` argument and any exception that happen during thetransform in `preprocessing_exc_tuple` in IPython 7.17 and above.\n",
            "  and should_run_async(code)\n"
          ]
        },
        {
          "output_type": "stream",
          "name": "stdout",
          "text": [
            "Episode 100\tAverage Score: -140.22\n",
            "Episode 200\tAverage Score: -95.73\n",
            "Episode 300\tAverage Score: -36.64\n",
            "Episode 400\tAverage Score: 124.65\n",
            "Episode 500\tAverage Score: 159.86\n",
            "Episode 585\tAverage Score: 200.44\n",
            " Environment solved in 485 episodes! \tAverage Score: 200.44\n"
          ]
        }
      ]
    },
    {
      "cell_type": "markdown",
      "metadata": {
        "id": "O8CNwdOTcCoP"
      },
      "source": [
        "## Part 3 - Visualizing the results"
      ]
    },
    {
      "cell_type": "code",
      "execution_count": null,
      "metadata": {
        "id": "cb9nVvU2Okhk",
        "colab": {
          "base_uri": "https://localhost:8080/",
          "height": 459
        },
        "outputId": "9aa9a894-866d-43e8-9d3f-2ead41118277"
      },
      "outputs": [
        {
          "output_type": "stream",
          "name": "stderr",
          "text": [
            "WARNING:imageio_ffmpeg:IMAGEIO FFMPEG_WRITER WARNING: input image is not divisible by macro_block_size=16, resizing from (600, 400) to (608, 400) to ensure video compatibility with most codecs and players. To prevent resizing, make your input image divisible by the macro_block_size or set the macro_block_size to 1 (risking incompatibility).\n"
          ]
        },
        {
          "output_type": "display_data",
          "data": {
            "text/plain": [
              "<IPython.core.display.HTML object>"
            ],
            "text/html": [
              "<video alt=\"test\" autoplay\n",
              "                loop controls style=\"height: 400px;\">\n",
              "                <source src=\"data:video/mp4;base64,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\" type=\"video/mp4\" />\n",
              "             </video>"
            ]
          },
          "metadata": {}
        }
      ],
      "source": [
        "import glob\n",
        "import io\n",
        "import base64\n",
        "import imageio\n",
        "from IPython.display import HTML, display\n",
        "from gym.wrappers.monitoring.video_recorder import VideoRecorder\n",
        "\n",
        "def show_video_of_model(agent, env_name):\n",
        "    env = gym.make(env_name, render_mode='rgb_array')\n",
        "    state, _ = env.reset()\n",
        "    done = False\n",
        "    frames = []\n",
        "    while not done:\n",
        "        frame = env.render()\n",
        "        frames.append(frame)\n",
        "        action = agent.act(state)\n",
        "        state, reward, done, _, _ = env.step(action.item())\n",
        "    env.close()\n",
        "    imageio.mimsave('video.mp4', frames, fps=30)\n",
        "\n",
        "show_video_of_model(agent, 'LunarLander-v2')\n",
        "\n",
        "def show_video():\n",
        "    mp4list = glob.glob('*.mp4')\n",
        "    if len(mp4list) > 0:\n",
        "        mp4 = mp4list[0]\n",
        "        video = io.open(mp4, 'r+b').read()\n",
        "        encoded = base64.b64encode(video)\n",
        "        display(HTML(data='''<video alt=\"test\" autoplay\n",
        "                loop controls style=\"height: 400px;\">\n",
        "                <source src=\"data:video/mp4;base64,{0}\" type=\"video/mp4\" />\n",
        "             </video>'''.format(encoded.decode('ascii'))))\n",
        "    else:\n",
        "        print(\"Could not find video\")\n",
        "\n",
        "show_video()"
      ]
    }
  ],
  "metadata": {
    "colab": {
      "provenance": [],
      "toc_visible": true
    },
    "kernelspec": {
      "display_name": "Python 3",
      "name": "python3"
    },
    "language_info": {
      "name": "python"
    }
  },
  "nbformat": 4,
  "nbformat_minor": 0
}